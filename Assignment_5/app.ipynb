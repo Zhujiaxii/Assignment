{
 "cells": [
  {
   "cell_type": "code",
   "execution_count": null,
   "id": "77425b17",
   "metadata": {},
   "outputs": [
    {
     "name": "stdout",
     "output_type": "stream",
     "text": [
      " * Serving Flask app \"__main__\" (lazy loading)\n",
      " * Environment: production\n",
      "   WARNING: This is a development server. Do not use it in a production deployment.\n",
      "   Use a production WSGI server instead.\n",
      " * Debug mode: off\n"
     ]
    },
    {
     "name": "stderr",
     "output_type": "stream",
     "text": [
      " * Running on http://localhost:9222/ (Press CTRL+C to quit)\n",
      "127.0.0.1 - - [18/Oct/2021 11:06:43] \"\u001b[37mGET / HTTP/1.1\u001b[0m\" 200 -\n",
      "127.0.0.1 - - [18/Oct/2021 11:06:43] \"\u001b[37mGET /static/css/style.css HTTP/1.1\u001b[0m\" 200 -\n",
      "127.0.0.1 - - [18/Oct/2021 11:06:43] \"\u001b[37mGET /static/js/scripts.js HTTP/1.1\u001b[0m\" 200 -\n",
      "127.0.0.1 - - [18/Oct/2021 11:06:45] \"\u001b[37mGET /static/assets/img/home-bg.jpg HTTP/1.1\u001b[0m\" 200 -\n",
      "127.0.0.1 - - [18/Oct/2021 11:06:47] \"\u001b[37mGET /blogs HTTP/1.1\u001b[0m\" 200 -\n"
     ]
    }
   ],
   "source": [
    "from flask import Flask, render_template, redirect, url_for\n",
    "import pandas as pd\n",
    "\n",
    "app = Flask(__name__)\n",
    "\n",
    "@app.route(\"/\")\n",
    "def index():\n",
    "    return render_template('index.html')\n",
    "\n",
    "@app.route(\"/blogs\")\n",
    "def blogs():\n",
    "  \n",
    "    title = [{'Name': \"志伟\", 'Jan': \"散落在秋天的记忆\", 'Feb': \"遥远的灯光\", 'Mar': \"回到童年\"},\n",
    "        {'Name': \"卡卡\",  'Jan': \"不留心看不见\", 'Feb': \"和你的名字一样\", 'Mar': \"关于上海的回忆\"},\n",
    "        {'Name': \"空耳\",  'Jan': \"黑夜号渡轮\",  'Feb': \"云雾如故乡\",  'Mar': \"46个故事\" }]\n",
    "    \n",
    "    df = pd.DataFrame(title)\n",
    "    df.to_csv('blogs_title.csv',mode='w',index=False)\n",
    "    df = pd.read_csv(\"blogs_title.csv\")\n",
    "    list = df.to_dict('records')\n",
    "\n",
    "    return render_template('blogs.html', entries = title)\n",
    "\n",
    "@app.route(\"/about\")\n",
    "def about():\n",
    "    return render_template('about.html')\n",
    "\n",
    "@app.route(\"/post\")\n",
    "def post():\n",
    "    return render_template('post.html')\n",
    "\n",
    "@app.route(\"/contact\")\n",
    "def contact():\n",
    "    return render_template('contact.html')\n",
    "\n",
    "@app.route(\"/dashboard\")\n",
    "def dashboard():\n",
    "    return render_template('dashboard.html')\n",
    "\n",
    "@app.errorhandler(404)\n",
    "def page_not_found(e):\n",
    "    return render_template('404.html'), 404\n",
    "\n",
    "if __name__ == '__main__':\n",
    "    app.run('localhost', 9222)"
   ]
  },
  {
   "cell_type": "code",
   "execution_count": null,
   "id": "1a525658",
   "metadata": {},
   "outputs": [],
   "source": []
  }
 ],
 "metadata": {
  "kernelspec": {
   "display_name": "Python 3",
   "language": "python",
   "name": "python3"
  },
  "language_info": {
   "codemirror_mode": {
    "name": "ipython",
    "version": 3
   },
   "file_extension": ".py",
   "mimetype": "text/x-python",
   "name": "python",
   "nbconvert_exporter": "python",
   "pygments_lexer": "ipython3",
   "version": "3.8.8"
  }
 },
 "nbformat": 4,
 "nbformat_minor": 5
}
