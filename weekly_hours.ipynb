{
 "cells": [
  {
   "cell_type": "code",
   "execution_count": 1,
   "id": "36695c17",
   "metadata": {},
   "outputs": [
    {
     "name": "stdout",
     "output_type": "stream",
     "text": [
      "Enter week1's total hours spent on Maths:5\n",
      "Enter week1's total hours spent on English:9\n",
      "Enter week1's total hours spent on Music:4\n",
      "Enter week2's total hours spent on Maths:2\n",
      "Enter week2's total hours spent on English:8\n",
      "Enter week2's total hours spent on Music:2\n",
      "Enter week3's total hours spent on Maths:4\n",
      "Enter week3's total hours spent on English:3\n",
      "Enter week3's total hours spent on Music:5\n",
      "Enter week4's total hours spent on Maths:6\n",
      "Enter week4's total hours spent on English:4\n",
      "Enter week4's total hours spent on Music:5\n",
      "Hours Spent per Week: \n",
      " [{'week': 'week1', 'Maths': 5, 'English': 9, 'Music': 4}, {'week': 'week2', 'Maths': 2, 'English': 8, 'Music': 2}, {'week': 'week3', 'Maths': 4, 'English': 3, 'Music': 5}, {'week': 'week4', 'Maths': 6, 'English': 4, 'Music': 5}]\n"
     ]
    },
    {
     "data": {
      "text/html": [
       "<div>\n",
       "<style scoped>\n",
       "    .dataframe tbody tr th:only-of-type {\n",
       "        vertical-align: middle;\n",
       "    }\n",
       "\n",
       "    .dataframe tbody tr th {\n",
       "        vertical-align: top;\n",
       "    }\n",
       "\n",
       "    .dataframe thead th {\n",
       "        text-align: right;\n",
       "    }\n",
       "</style>\n",
       "<table border=\"1\" class=\"dataframe\">\n",
       "  <thead>\n",
       "    <tr style=\"text-align: right;\">\n",
       "      <th></th>\n",
       "      <th>week</th>\n",
       "      <th>Maths</th>\n",
       "      <th>English</th>\n",
       "      <th>Music</th>\n",
       "    </tr>\n",
       "  </thead>\n",
       "  <tbody>\n",
       "    <tr>\n",
       "      <th>0</th>\n",
       "      <td>week1</td>\n",
       "      <td>5</td>\n",
       "      <td>9</td>\n",
       "      <td>4</td>\n",
       "    </tr>\n",
       "    <tr>\n",
       "      <th>1</th>\n",
       "      <td>week2</td>\n",
       "      <td>2</td>\n",
       "      <td>8</td>\n",
       "      <td>2</td>\n",
       "    </tr>\n",
       "    <tr>\n",
       "      <th>2</th>\n",
       "      <td>week3</td>\n",
       "      <td>4</td>\n",
       "      <td>3</td>\n",
       "      <td>5</td>\n",
       "    </tr>\n",
       "    <tr>\n",
       "      <th>3</th>\n",
       "      <td>week4</td>\n",
       "      <td>6</td>\n",
       "      <td>4</td>\n",
       "      <td>5</td>\n",
       "    </tr>\n",
       "  </tbody>\n",
       "</table>\n",
       "</div>"
      ],
      "text/plain": [
       "    week  Maths  English  Music\n",
       "0  week1      5        9      4\n",
       "1  week2      2        8      2\n",
       "2  week3      4        3      5\n",
       "3  week4      6        4      5"
      ]
     },
     "execution_count": 1,
     "metadata": {},
     "output_type": "execute_result"
    }
   ],
   "source": [
    "import pandas as pd\n",
    "weekly_hours = []\n",
    "week = ['week1','week2','week3','week4']\n",
    "for i in week:\n",
    "    weekly_Maths = int(input(\"Enter \"+ i + \"'s total hours spent on Maths:\"))\n",
    "    weekly_English = int(input(\"Enter \"+ i +\"'s total hours spent on English:\"))\n",
    "    weekly_Music = int(input(\"Enter \" + i + \"'s total hours spent on Music:\"))\n",
    "    weekly_hours.append({'week':i,'Maths':weekly_Maths,'English':weekly_English,'Music':weekly_Music})\n",
    "print(\"Hours Spent per Week:\",\"\\n\",weekly_hours)\n",
    "df = pd.DataFrame(weekly_hours)\n",
    "df\n",
    "df.to_csv('weekly_hours.csv',mode='w',index=False)\n",
    "df"
   ]
  },
  {
   "cell_type": "code",
   "execution_count": 18,
   "id": "3de95051",
   "metadata": {},
   "outputs": [
    {
     "name": "stdout",
     "output_type": "stream",
     "text": [
      "Hours_list: \n",
      " [['week1', 5, 9, 4], ['week2', 2, 8, 2], ['week3', 4, 3, 5], ['week4', 6, 4, 5]] \n",
      "\n",
      "Weekly Maths: [5, 2, 4, 6] \n",
      "\n",
      "Weekly English: [9, 8, 3, 4] \n",
      "\n",
      "Weekly Music: [4, 2, 5, 5] \n",
      "\n",
      "Average Hours: [6, 4, 4, 5] \n",
      "\n"
     ]
    },
    {
     "data": {
      "image/png": "[encoded data removed]",
      "text/plain": [
       "<Figure size 432x288 with 1 Axes>"
      ]
     },
     "metadata": {
      "needs_background": "light"
     },
     "output_type": "display_data"
    }
   ],
   "source": [
    "import pandas as pd\n",
    "from matplotlib import pyplot as plt\n",
    "df = pd.read_csv(\"weekly_hours.csv\")\n",
    "df\n",
    "hours_list= df.values.tolist()\n",
    "print(\"Hours_list:\",\"\\n\",hours_list,\"\\n\")\n",
    "week = []\n",
    "weekly_Maths = []\n",
    "weekly_English = []\n",
    "weekly_Music = []\n",
    "hours_mean = []\n",
    "for i in hours_list:\n",
    "    week.append(i[0])\n",
    "    weekly_Maths.append(i[1])\n",
    "    weekly_English.append(i[2])\n",
    "    weekly_Music.append(i[3])\n",
    "    hours_mean.append(round((i[1]+i[2]+i[3])/3))\n",
    "print(\"Weekly Maths:\",weekly_Maths,\"\\n\")\n",
    "print(\"Weekly English:\",weekly_English,\"\\n\")\n",
    "print(\"Weekly Music:\",weekly_Music,\"\\n\")\n",
    "print(\"Average Hours:\",hours_mean,\"\\n\")\n",
    "plt.plot(week,weekly_Maths,color=\"red\")\n",
    "plt.plot(week,weekly_English,color=\"blue\")\n",
    "plt.plot(week,weekly_Music,color=\"purple\")\n",
    "plt.plot(week,hours_mean,color=\"black\",linestyle='--',marker='s')\n",
    "plt.legend(['Weekly Maths','Weekly English','Weekly Music'])\n",
    "plt.xlabel('Week')\n",
    "plt.ylabel('Task')\n",
    "plt.title('Hours spent on tasks per week')\n",
    "plt.show()"
   ]
  }
 ],
 "metadata": {
  "kernelspec": {
   "display_name": "Python 3",
   "language": "python",
   "name": "python3"
  },
  "language_info": {
   "codemirror_mode": {
    "name": "ipython",
    "version": 3
   },
   "file_extension": ".py",
   "mimetype": "text/x-python",
   "name": "python",
   "nbconvert_exporter": "python",
   "pygments_lexer": "ipython3",
   "version": "3.8.8"
  }
 },
 "nbformat": 4,
 "nbformat_minor": 5
}
